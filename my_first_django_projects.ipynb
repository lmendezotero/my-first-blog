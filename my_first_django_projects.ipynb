{
 "cells": [
  {
   "cell_type": "markdown",
   "id": "0a804fd4",
   "metadata": {},
   "source": [
    "# Django Girls | My First Projects"
   ]
  },
  {
   "cell_type": "markdown",
   "id": "0544136c",
   "metadata": {},
   "source": [
    "Creating a blog from scratch."
   ]
  },
  {
   "cell_type": "code",
   "execution_count": null,
   "id": "9284e14e",
   "metadata": {},
   "outputs": [],
   "source": []
  }
 ],
 "metadata": {
  "kernelspec": {
   "display_name": "Python 3 (ipykernel)",
   "language": "python",
   "name": "python3"
  },
  "language_info": {
   "codemirror_mode": {
    "name": "ipython",
    "version": 3
   },
   "file_extension": ".py",
   "mimetype": "text/x-python",
   "name": "python",
   "nbconvert_exporter": "python",
   "pygments_lexer": "ipython3",
   "version": "3.11.4"
  }
 },
 "nbformat": 4,
 "nbformat_minor": 5
}
